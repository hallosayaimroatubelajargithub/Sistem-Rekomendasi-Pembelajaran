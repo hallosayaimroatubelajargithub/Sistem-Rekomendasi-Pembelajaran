{
  "nbformat": 4,
  "nbformat_minor": 0,
  "metadata": {
    "colab": {
      "provenance": [],
      "authorship_tag": "ABX9TyNSF+4AsfR2iUPWlAPZjNlz",
      "include_colab_link": true
    },
    "kernelspec": {
      "name": "python3",
      "display_name": "Python 3"
    },
    "language_info": {
      "name": "python"
    }
  },
  "cells": [
    {
      "cell_type": "markdown",
      "metadata": {
        "id": "view-in-github",
        "colab_type": "text"
      },
      "source": [
        "<a href=\"https://colab.research.google.com/github/hallosayaimroatubelajargithub/Sistem-Rekomendasi-Pembelajaran/blob/main/content_based_filtering_pembelajaran.ipynb\" target=\"_parent\"><img src=\"https://colab.research.google.com/assets/colab-badge.svg\" alt=\"Open In Colab\"/></a>"
      ]
    },
    {
      "cell_type": "markdown",
      "source": [
        "**Content Based Filtering : Rekomendasi Modul Pembelajaran**"
      ],
      "metadata": {
        "id": "JtdsGuZkDKOa"
      }
    },
    {
      "cell_type": "code",
      "execution_count": 1,
      "metadata": {
        "id": "qY_iF2mkDEYs",
        "colab": {
          "base_uri": "https://localhost:8080/",
          "height": 206
        },
        "outputId": "b9312048-669e-434f-8d5e-c00450b52f56"
      },
      "outputs": [
        {
          "output_type": "execute_result",
          "data": {
            "text/plain": [
              "                               mitra  \\\n",
              "0         PT Orbit Ventura Indonesia   \n",
              "1       PT Nurul Fikri Cipta Inovasi   \n",
              "2  PT MariBelajar Indonesia \\nCerdas   \n",
              "3     PT Mitra Integrasi Informatika   \n",
              "4   PT. Impactbyte Teknologi Edukasi   \n",
              "\n",
              "                                              alamat  \\\n",
              "0  Veteran RI Building 15th Floor Unit\\nZ15-002, ...   \n",
              "1  Jl. Situ Indah No.116 RT. 006 \\nRW. 010 Kel. T...   \n",
              "2  Jln Tunggul Ametung IVa no 8, \\nDesa Ubung Kaj...   \n",
              "3  APL Tower Lantai 37, Jl. Letjen \\nS. Parman Ka...   \n",
              "4  Jl. Simprug Golf 8 No..6, RT.2/RW.8, \\nGrogol ...   \n",
              "\n",
              "                                               modul  \n",
              "0  Project AI   Metode Penelitian AI   Pemrograma...  \n",
              "1  Desain Web   Git/Github   Javascript   Laravel...  \n",
              "2  Microsoft 365 Fundamentals   Microsoft Azure F...  \n",
              "3  Introduction Programming   Front-End Programmi...  \n",
              "4  User Interface Designing dan Prototyping   Res...  "
            ],
            "text/html": [
              "\n",
              "  <div id=\"df-4d6719e8-e918-4528-ac7d-de734bc83d99\">\n",
              "    <div class=\"colab-df-container\">\n",
              "      <div>\n",
              "<style scoped>\n",
              "    .dataframe tbody tr th:only-of-type {\n",
              "        vertical-align: middle;\n",
              "    }\n",
              "\n",
              "    .dataframe tbody tr th {\n",
              "        vertical-align: top;\n",
              "    }\n",
              "\n",
              "    .dataframe thead th {\n",
              "        text-align: right;\n",
              "    }\n",
              "</style>\n",
              "<table border=\"1\" class=\"dataframe\">\n",
              "  <thead>\n",
              "    <tr style=\"text-align: right;\">\n",
              "      <th></th>\n",
              "      <th>mitra</th>\n",
              "      <th>alamat</th>\n",
              "      <th>modul</th>\n",
              "    </tr>\n",
              "  </thead>\n",
              "  <tbody>\n",
              "    <tr>\n",
              "      <th>0</th>\n",
              "      <td>PT Orbit Ventura Indonesia</td>\n",
              "      <td>Veteran RI Building 15th Floor Unit\\nZ15-002, ...</td>\n",
              "      <td>Project AI   Metode Penelitian AI   Pemrograma...</td>\n",
              "    </tr>\n",
              "    <tr>\n",
              "      <th>1</th>\n",
              "      <td>PT Nurul Fikri Cipta Inovasi</td>\n",
              "      <td>Jl. Situ Indah No.116 RT. 006 \\nRW. 010 Kel. T...</td>\n",
              "      <td>Desain Web   Git/Github   Javascript   Laravel...</td>\n",
              "    </tr>\n",
              "    <tr>\n",
              "      <th>2</th>\n",
              "      <td>PT MariBelajar Indonesia \\nCerdas</td>\n",
              "      <td>Jln Tunggul Ametung IVa no 8, \\nDesa Ubung Kaj...</td>\n",
              "      <td>Microsoft 365 Fundamentals   Microsoft Azure F...</td>\n",
              "    </tr>\n",
              "    <tr>\n",
              "      <th>3</th>\n",
              "      <td>PT Mitra Integrasi Informatika</td>\n",
              "      <td>APL Tower Lantai 37, Jl. Letjen \\nS. Parman Ka...</td>\n",
              "      <td>Introduction Programming   Front-End Programmi...</td>\n",
              "    </tr>\n",
              "    <tr>\n",
              "      <th>4</th>\n",
              "      <td>PT. Impactbyte Teknologi Edukasi</td>\n",
              "      <td>Jl. Simprug Golf 8 No..6, RT.2/RW.8, \\nGrogol ...</td>\n",
              "      <td>User Interface Designing dan Prototyping   Res...</td>\n",
              "    </tr>\n",
              "  </tbody>\n",
              "</table>\n",
              "</div>\n",
              "      <button class=\"colab-df-convert\" onclick=\"convertToInteractive('df-4d6719e8-e918-4528-ac7d-de734bc83d99')\"\n",
              "              title=\"Convert this dataframe to an interactive table.\"\n",
              "              style=\"display:none;\">\n",
              "        \n",
              "  <svg xmlns=\"http://www.w3.org/2000/svg\" height=\"24px\"viewBox=\"0 0 24 24\"\n",
              "       width=\"24px\">\n",
              "    <path d=\"M0 0h24v24H0V0z\" fill=\"none\"/>\n",
              "    <path d=\"M18.56 5.44l.94 2.06.94-2.06 2.06-.94-2.06-.94-.94-2.06-.94 2.06-2.06.94zm-11 1L8.5 8.5l.94-2.06 2.06-.94-2.06-.94L8.5 2.5l-.94 2.06-2.06.94zm10 10l.94 2.06.94-2.06 2.06-.94-2.06-.94-.94-2.06-.94 2.06-2.06.94z\"/><path d=\"M17.41 7.96l-1.37-1.37c-.4-.4-.92-.59-1.43-.59-.52 0-1.04.2-1.43.59L10.3 9.45l-7.72 7.72c-.78.78-.78 2.05 0 2.83L4 21.41c.39.39.9.59 1.41.59.51 0 1.02-.2 1.41-.59l7.78-7.78 2.81-2.81c.8-.78.8-2.07 0-2.86zM5.41 20L4 18.59l7.72-7.72 1.47 1.35L5.41 20z\"/>\n",
              "  </svg>\n",
              "      </button>\n",
              "      \n",
              "  <style>\n",
              "    .colab-df-container {\n",
              "      display:flex;\n",
              "      flex-wrap:wrap;\n",
              "      gap: 12px;\n",
              "    }\n",
              "\n",
              "    .colab-df-convert {\n",
              "      background-color: #E8F0FE;\n",
              "      border: none;\n",
              "      border-radius: 50%;\n",
              "      cursor: pointer;\n",
              "      display: none;\n",
              "      fill: #1967D2;\n",
              "      height: 32px;\n",
              "      padding: 0 0 0 0;\n",
              "      width: 32px;\n",
              "    }\n",
              "\n",
              "    .colab-df-convert:hover {\n",
              "      background-color: #E2EBFA;\n",
              "      box-shadow: 0px 1px 2px rgba(60, 64, 67, 0.3), 0px 1px 3px 1px rgba(60, 64, 67, 0.15);\n",
              "      fill: #174EA6;\n",
              "    }\n",
              "\n",
              "    [theme=dark] .colab-df-convert {\n",
              "      background-color: #3B4455;\n",
              "      fill: #D2E3FC;\n",
              "    }\n",
              "\n",
              "    [theme=dark] .colab-df-convert:hover {\n",
              "      background-color: #434B5C;\n",
              "      box-shadow: 0px 1px 3px 1px rgba(0, 0, 0, 0.15);\n",
              "      filter: drop-shadow(0px 1px 2px rgba(0, 0, 0, 0.3));\n",
              "      fill: #FFFFFF;\n",
              "    }\n",
              "  </style>\n",
              "\n",
              "      <script>\n",
              "        const buttonEl =\n",
              "          document.querySelector('#df-4d6719e8-e918-4528-ac7d-de734bc83d99 button.colab-df-convert');\n",
              "        buttonEl.style.display =\n",
              "          google.colab.kernel.accessAllowed ? 'block' : 'none';\n",
              "\n",
              "        async function convertToInteractive(key) {\n",
              "          const element = document.querySelector('#df-4d6719e8-e918-4528-ac7d-de734bc83d99');\n",
              "          const dataTable =\n",
              "            await google.colab.kernel.invokeFunction('convertToInteractive',\n",
              "                                                     [key], {});\n",
              "          if (!dataTable) return;\n",
              "\n",
              "          const docLinkHtml = 'Like what you see? Visit the ' +\n",
              "            '<a target=\"_blank\" href=https://colab.research.google.com/notebooks/data_table.ipynb>data table notebook</a>'\n",
              "            + ' to learn more about interactive tables.';\n",
              "          element.innerHTML = '';\n",
              "          dataTable['output_type'] = 'display_data';\n",
              "          await google.colab.output.renderOutput(dataTable, element);\n",
              "          const docLink = document.createElement('div');\n",
              "          docLink.innerHTML = docLinkHtml;\n",
              "          element.appendChild(docLink);\n",
              "        }\n",
              "      </script>\n",
              "    </div>\n",
              "  </div>\n",
              "  "
            ]
          },
          "metadata": {},
          "execution_count": 1
        }
      ],
      "source": [
        "import pandas as pd\n",
        "import numpy as np\n",
        "from sklearn.metrics.pairwise import cosine_similarity\n",
        "from sklearn.feature_extraction.text import TfidfVectorizer\n",
        "from nltk.corpus import stopwords\n",
        "import re\n",
        "import random\n",
        "\n",
        "df = pd.read_csv(\"https://raw.githubusercontent.com/hallosayaimroatubelajargithub/Sistem-Rekomendasi-Pembelajaran/main/data_rekomendasi.csv\")\n",
        "df.head()"
      ]
    },
    {
      "cell_type": "markdown",
      "source": [
        "**1. Ikhtisar**"
      ],
      "metadata": {
        "id": "omo6T0xoV29J"
      }
    },
    {
      "cell_type": "code",
      "source": [
        "df.describe()"
      ],
      "metadata": {
        "colab": {
          "base_uri": "https://localhost:8080/",
          "height": 175
        },
        "id": "O9f5xkgWV2be",
        "outputId": "fddd463d-44bb-4641-c049-d7d09ff92e7f"
      },
      "execution_count": 2,
      "outputs": [
        {
          "output_type": "execute_result",
          "data": {
            "text/plain": [
              "                                 mitra  \\\n",
              "count                               11   \n",
              "unique                              10   \n",
              "top     PT Mitra Integrasi Informatika   \n",
              "freq                                 2   \n",
              "\n",
              "                                                   alamat  \\\n",
              "count                                                  11   \n",
              "unique                                                 11   \n",
              "top     Veteran RI Building 15th Floor Unit\\nZ15-002, ...   \n",
              "freq                                                    1   \n",
              "\n",
              "                                                    modul  \n",
              "count                                                  11  \n",
              "unique                                                 11  \n",
              "top     Project AI   Metode Penelitian AI   Pemrograma...  \n",
              "freq                                                    1  "
            ],
            "text/html": [
              "\n",
              "  <div id=\"df-121ac07b-57c4-4e91-9207-6edbc8fa12bc\">\n",
              "    <div class=\"colab-df-container\">\n",
              "      <div>\n",
              "<style scoped>\n",
              "    .dataframe tbody tr th:only-of-type {\n",
              "        vertical-align: middle;\n",
              "    }\n",
              "\n",
              "    .dataframe tbody tr th {\n",
              "        vertical-align: top;\n",
              "    }\n",
              "\n",
              "    .dataframe thead th {\n",
              "        text-align: right;\n",
              "    }\n",
              "</style>\n",
              "<table border=\"1\" class=\"dataframe\">\n",
              "  <thead>\n",
              "    <tr style=\"text-align: right;\">\n",
              "      <th></th>\n",
              "      <th>mitra</th>\n",
              "      <th>alamat</th>\n",
              "      <th>modul</th>\n",
              "    </tr>\n",
              "  </thead>\n",
              "  <tbody>\n",
              "    <tr>\n",
              "      <th>count</th>\n",
              "      <td>11</td>\n",
              "      <td>11</td>\n",
              "      <td>11</td>\n",
              "    </tr>\n",
              "    <tr>\n",
              "      <th>unique</th>\n",
              "      <td>10</td>\n",
              "      <td>11</td>\n",
              "      <td>11</td>\n",
              "    </tr>\n",
              "    <tr>\n",
              "      <th>top</th>\n",
              "      <td>PT Mitra Integrasi Informatika</td>\n",
              "      <td>Veteran RI Building 15th Floor Unit\\nZ15-002, ...</td>\n",
              "      <td>Project AI   Metode Penelitian AI   Pemrograma...</td>\n",
              "    </tr>\n",
              "    <tr>\n",
              "      <th>freq</th>\n",
              "      <td>2</td>\n",
              "      <td>1</td>\n",
              "      <td>1</td>\n",
              "    </tr>\n",
              "  </tbody>\n",
              "</table>\n",
              "</div>\n",
              "      <button class=\"colab-df-convert\" onclick=\"convertToInteractive('df-121ac07b-57c4-4e91-9207-6edbc8fa12bc')\"\n",
              "              title=\"Convert this dataframe to an interactive table.\"\n",
              "              style=\"display:none;\">\n",
              "        \n",
              "  <svg xmlns=\"http://www.w3.org/2000/svg\" height=\"24px\"viewBox=\"0 0 24 24\"\n",
              "       width=\"24px\">\n",
              "    <path d=\"M0 0h24v24H0V0z\" fill=\"none\"/>\n",
              "    <path d=\"M18.56 5.44l.94 2.06.94-2.06 2.06-.94-2.06-.94-.94-2.06-.94 2.06-2.06.94zm-11 1L8.5 8.5l.94-2.06 2.06-.94-2.06-.94L8.5 2.5l-.94 2.06-2.06.94zm10 10l.94 2.06.94-2.06 2.06-.94-2.06-.94-.94-2.06-.94 2.06-2.06.94z\"/><path d=\"M17.41 7.96l-1.37-1.37c-.4-.4-.92-.59-1.43-.59-.52 0-1.04.2-1.43.59L10.3 9.45l-7.72 7.72c-.78.78-.78 2.05 0 2.83L4 21.41c.39.39.9.59 1.41.59.51 0 1.02-.2 1.41-.59l7.78-7.78 2.81-2.81c.8-.78.8-2.07 0-2.86zM5.41 20L4 18.59l7.72-7.72 1.47 1.35L5.41 20z\"/>\n",
              "  </svg>\n",
              "      </button>\n",
              "      \n",
              "  <style>\n",
              "    .colab-df-container {\n",
              "      display:flex;\n",
              "      flex-wrap:wrap;\n",
              "      gap: 12px;\n",
              "    }\n",
              "\n",
              "    .colab-df-convert {\n",
              "      background-color: #E8F0FE;\n",
              "      border: none;\n",
              "      border-radius: 50%;\n",
              "      cursor: pointer;\n",
              "      display: none;\n",
              "      fill: #1967D2;\n",
              "      height: 32px;\n",
              "      padding: 0 0 0 0;\n",
              "      width: 32px;\n",
              "    }\n",
              "\n",
              "    .colab-df-convert:hover {\n",
              "      background-color: #E2EBFA;\n",
              "      box-shadow: 0px 1px 2px rgba(60, 64, 67, 0.3), 0px 1px 3px 1px rgba(60, 64, 67, 0.15);\n",
              "      fill: #174EA6;\n",
              "    }\n",
              "\n",
              "    [theme=dark] .colab-df-convert {\n",
              "      background-color: #3B4455;\n",
              "      fill: #D2E3FC;\n",
              "    }\n",
              "\n",
              "    [theme=dark] .colab-df-convert:hover {\n",
              "      background-color: #434B5C;\n",
              "      box-shadow: 0px 1px 3px 1px rgba(0, 0, 0, 0.15);\n",
              "      filter: drop-shadow(0px 1px 2px rgba(0, 0, 0, 0.3));\n",
              "      fill: #FFFFFF;\n",
              "    }\n",
              "  </style>\n",
              "\n",
              "      <script>\n",
              "        const buttonEl =\n",
              "          document.querySelector('#df-121ac07b-57c4-4e91-9207-6edbc8fa12bc button.colab-df-convert');\n",
              "        buttonEl.style.display =\n",
              "          google.colab.kernel.accessAllowed ? 'block' : 'none';\n",
              "\n",
              "        async function convertToInteractive(key) {\n",
              "          const element = document.querySelector('#df-121ac07b-57c4-4e91-9207-6edbc8fa12bc');\n",
              "          const dataTable =\n",
              "            await google.colab.kernel.invokeFunction('convertToInteractive',\n",
              "                                                     [key], {});\n",
              "          if (!dataTable) return;\n",
              "\n",
              "          const docLinkHtml = 'Like what you see? Visit the ' +\n",
              "            '<a target=\"_blank\" href=https://colab.research.google.com/notebooks/data_table.ipynb>data table notebook</a>'\n",
              "            + ' to learn more about interactive tables.';\n",
              "          element.innerHTML = '';\n",
              "          dataTable['output_type'] = 'display_data';\n",
              "          await google.colab.output.renderOutput(dataTable, element);\n",
              "          const docLink = document.createElement('div');\n",
              "          docLink.innerHTML = docLinkHtml;\n",
              "          element.appendChild(docLink);\n",
              "        }\n",
              "      </script>\n",
              "    </div>\n",
              "  </div>\n",
              "  "
            ]
          },
          "metadata": {},
          "execution_count": 2
        }
      ]
    },
    {
      "cell_type": "code",
      "source": [
        "df.info()"
      ],
      "metadata": {
        "colab": {
          "base_uri": "https://localhost:8080/"
        },
        "id": "Q77GzERJV_FC",
        "outputId": "59ef1916-5a89-4600-bf49-1d95b8b3be7b"
      },
      "execution_count": 3,
      "outputs": [
        {
          "output_type": "stream",
          "name": "stdout",
          "text": [
            "<class 'pandas.core.frame.DataFrame'>\n",
            "RangeIndex: 11 entries, 0 to 10\n",
            "Data columns (total 3 columns):\n",
            " #   Column  Non-Null Count  Dtype \n",
            "---  ------  --------------  ----- \n",
            " 0   mitra   11 non-null     object\n",
            " 1   alamat  11 non-null     object\n",
            " 2   modul   11 non-null     object\n",
            "dtypes: object(3)\n",
            "memory usage: 392.0+ bytes\n"
          ]
        }
      ]
    },
    {
      "cell_type": "markdown",
      "source": [
        "**2. Tampilan Modul Pembelajaran (Sebelum Preprocessing)**"
      ],
      "metadata": {
        "id": "YqJc5xD5WB_S"
      }
    },
    {
      "cell_type": "code",
      "source": [
        "def print_description(index):\n",
        "    example = df[df.index == index][['modul', 'mitra','alamat']].values[0]\n",
        "    if len(example) > 0:\n",
        "        print(example[0])\n",
        "        print('mitra:', example[1])\n",
        "        print('alamat:', example[2])"
      ],
      "metadata": {
        "id": "Cwg0W9RUWHLQ"
      },
      "execution_count": 4,
      "outputs": []
    },
    {
      "cell_type": "code",
      "source": [
        "print_description(1)"
      ],
      "metadata": {
        "colab": {
          "base_uri": "https://localhost:8080/"
        },
        "id": "ZCNVKOK_WSE_",
        "outputId": "76f9b8d1-8113-4373-d2ca-9d9b0ec34f26"
      },
      "execution_count": 5,
      "outputs": [
        {
          "output_type": "stream",
          "name": "stdout",
          "text": [
            "Desain Web   Git/Github   Javascript   Laravel   Database MYSQL   PHP   REST API   UI/UX   Soft Skill   Final Project\n",
            "mitra: PT Nurul Fikri Cipta Inovasi\n",
            "alamat: Jl. Situ Indah No.116 RT. 006 \n",
            "RW. 010 Kel. Tugu, Kec. Cimanggis, \n",
            "Kota Depok, Jawa Barat\n",
            "\n"
          ]
        }
      ]
    },
    {
      "cell_type": "code",
      "source": [
        "print_description(3)"
      ],
      "metadata": {
        "colab": {
          "base_uri": "https://localhost:8080/"
        },
        "id": "vmCtdi0iWSLi",
        "outputId": "6bb9bdae-f888-46ef-c1a3-9fe8c49711fe"
      },
      "execution_count": 6,
      "outputs": [
        {
          "output_type": "stream",
          "name": "stdout",
          "text": [
            "Introduction Programming   Front-End Programming   Back-End Programming   Secure Programming   \n",
            "Power Platform Fundamental\n",
            "mitra: PT Mitra Integrasi Informatika\n",
            "alamat: APL Tower Lantai 37, Jl. Letjen \n",
            "S. Parman Kav. 28, RT.12/RW.6, \n",
            "Tj. Duren Sel., Jakarta Barat, \n",
            "Kota Jakarta Barat, \n",
            "Daerah Khusus Ibukota Jakarta 11470\n"
          ]
        }
      ]
    },
    {
      "cell_type": "code",
      "source": [
        "print_description(5)"
      ],
      "metadata": {
        "colab": {
          "base_uri": "https://localhost:8080/"
        },
        "id": "rBCQkAvHWeTG",
        "outputId": "80bd71ff-2b9b-45d4-f1f7-18b97d34b0f4"
      },
      "execution_count": 7,
      "outputs": [
        {
          "output_type": "stream",
          "name": "stdout",
          "text": [
            "Text Mining   Machine Learning   Basis Data   Pemrograman Web   Jejaring Sosial   Web Service   Pemrograman Aplikasi Mobile   \n",
            "Rekayasa Perangkat Lunak\n",
            "mitra: Imroatu\n",
            "alamat: Desel, Ngaliyan Semarang Jawa Tengah\n"
          ]
        }
      ]
    },
    {
      "cell_type": "markdown",
      "source": [
        "**3. Text Preprocessing**"
      ],
      "metadata": {
        "id": "vZbZyLltW9xH"
      }
    },
    {
      "cell_type": "code",
      "source": [
        "import nltk\n",
        "nltk.download('stopwords')\n",
        "clean_spcl = re.compile('[/(){}\\[\\]\\|@,;]')\n",
        "clean_symbol = re.compile('[^0-9a-z #+_]')\n",
        "#stopworda = set(stopwords.words('english'))\n",
        "\n",
        "def clean_text(text):\n",
        "    \"\"\"\n",
        "        text: a string\n",
        "        \n",
        "        return: modified initial string\n",
        "    \"\"\"\n",
        "    text = text.lower() # lowercase text\n",
        "    text = clean_spcl.sub(' ', text)\n",
        "    text = clean_symbol.sub('', text)\n",
        "    #text = ' '.join(word for word in text.split() if word not in stopworda) # hapus stopword dari kolom deskripsi\n",
        "    return text\n",
        "    \n",
        "df['modul_pembelajaran_clean'] = df['modul'].apply(clean_text)"
      ],
      "metadata": {
        "colab": {
          "base_uri": "https://localhost:8080/"
        },
        "id": "sDkDo8VsW-9t",
        "outputId": "c352139e-8912-40e7-9acf-a0ef02b65d41"
      },
      "execution_count": 8,
      "outputs": [
        {
          "output_type": "stream",
          "name": "stderr",
          "text": [
            "[nltk_data] Downloading package stopwords to /root/nltk_data...\n",
            "[nltk_data]   Unzipping corpora/stopwords.zip.\n"
          ]
        }
      ]
    },
    {
      "cell_type": "code",
      "source": [
        "df.head()"
      ],
      "metadata": {
        "colab": {
          "base_uri": "https://localhost:8080/",
          "height": 250
        },
        "id": "X44DdSVlXIpo",
        "outputId": "4af9f45a-b8fd-4fe3-8783-0ffd4815ce6a"
      },
      "execution_count": 9,
      "outputs": [
        {
          "output_type": "execute_result",
          "data": {
            "text/plain": [
              "                               mitra  \\\n",
              "0         PT Orbit Ventura Indonesia   \n",
              "1       PT Nurul Fikri Cipta Inovasi   \n",
              "2  PT MariBelajar Indonesia \\nCerdas   \n",
              "3     PT Mitra Integrasi Informatika   \n",
              "4   PT. Impactbyte Teknologi Edukasi   \n",
              "\n",
              "                                              alamat  \\\n",
              "0  Veteran RI Building 15th Floor Unit\\nZ15-002, ...   \n",
              "1  Jl. Situ Indah No.116 RT. 006 \\nRW. 010 Kel. T...   \n",
              "2  Jln Tunggul Ametung IVa no 8, \\nDesa Ubung Kaj...   \n",
              "3  APL Tower Lantai 37, Jl. Letjen \\nS. Parman Ka...   \n",
              "4  Jl. Simprug Golf 8 No..6, RT.2/RW.8, \\nGrogol ...   \n",
              "\n",
              "                                               modul  \\\n",
              "0  Project AI   Metode Penelitian AI   Pemrograma...   \n",
              "1  Desain Web   Git/Github   Javascript   Laravel...   \n",
              "2  Microsoft 365 Fundamentals   Microsoft Azure F...   \n",
              "3  Introduction Programming   Front-End Programmi...   \n",
              "4  User Interface Designing dan Prototyping   Res...   \n",
              "\n",
              "                            modul_pembelajaran_clean  \n",
              "0  project ai   metode penelitian ai   pemrograma...  \n",
              "1  desain web   git github   javascript   laravel...  \n",
              "2  microsoft 365 fundamentals   microsoft azure f...  \n",
              "3  introduction programming   frontend programmin...  \n",
              "4  user interface designing dan prototyping   res...  "
            ],
            "text/html": [
              "\n",
              "  <div id=\"df-d20076c6-3dcb-4ff9-b40d-066f5e322809\">\n",
              "    <div class=\"colab-df-container\">\n",
              "      <div>\n",
              "<style scoped>\n",
              "    .dataframe tbody tr th:only-of-type {\n",
              "        vertical-align: middle;\n",
              "    }\n",
              "\n",
              "    .dataframe tbody tr th {\n",
              "        vertical-align: top;\n",
              "    }\n",
              "\n",
              "    .dataframe thead th {\n",
              "        text-align: right;\n",
              "    }\n",
              "</style>\n",
              "<table border=\"1\" class=\"dataframe\">\n",
              "  <thead>\n",
              "    <tr style=\"text-align: right;\">\n",
              "      <th></th>\n",
              "      <th>mitra</th>\n",
              "      <th>alamat</th>\n",
              "      <th>modul</th>\n",
              "      <th>modul_pembelajaran_clean</th>\n",
              "    </tr>\n",
              "  </thead>\n",
              "  <tbody>\n",
              "    <tr>\n",
              "      <th>0</th>\n",
              "      <td>PT Orbit Ventura Indonesia</td>\n",
              "      <td>Veteran RI Building 15th Floor Unit\\nZ15-002, ...</td>\n",
              "      <td>Project AI   Metode Penelitian AI   Pemrograma...</td>\n",
              "      <td>project ai   metode penelitian ai   pemrograma...</td>\n",
              "    </tr>\n",
              "    <tr>\n",
              "      <th>1</th>\n",
              "      <td>PT Nurul Fikri Cipta Inovasi</td>\n",
              "      <td>Jl. Situ Indah No.116 RT. 006 \\nRW. 010 Kel. T...</td>\n",
              "      <td>Desain Web   Git/Github   Javascript   Laravel...</td>\n",
              "      <td>desain web   git github   javascript   laravel...</td>\n",
              "    </tr>\n",
              "    <tr>\n",
              "      <th>2</th>\n",
              "      <td>PT MariBelajar Indonesia \\nCerdas</td>\n",
              "      <td>Jln Tunggul Ametung IVa no 8, \\nDesa Ubung Kaj...</td>\n",
              "      <td>Microsoft 365 Fundamentals   Microsoft Azure F...</td>\n",
              "      <td>microsoft 365 fundamentals   microsoft azure f...</td>\n",
              "    </tr>\n",
              "    <tr>\n",
              "      <th>3</th>\n",
              "      <td>PT Mitra Integrasi Informatika</td>\n",
              "      <td>APL Tower Lantai 37, Jl. Letjen \\nS. Parman Ka...</td>\n",
              "      <td>Introduction Programming   Front-End Programmi...</td>\n",
              "      <td>introduction programming   frontend programmin...</td>\n",
              "    </tr>\n",
              "    <tr>\n",
              "      <th>4</th>\n",
              "      <td>PT. Impactbyte Teknologi Edukasi</td>\n",
              "      <td>Jl. Simprug Golf 8 No..6, RT.2/RW.8, \\nGrogol ...</td>\n",
              "      <td>User Interface Designing dan Prototyping   Res...</td>\n",
              "      <td>user interface designing dan prototyping   res...</td>\n",
              "    </tr>\n",
              "  </tbody>\n",
              "</table>\n",
              "</div>\n",
              "      <button class=\"colab-df-convert\" onclick=\"convertToInteractive('df-d20076c6-3dcb-4ff9-b40d-066f5e322809')\"\n",
              "              title=\"Convert this dataframe to an interactive table.\"\n",
              "              style=\"display:none;\">\n",
              "        \n",
              "  <svg xmlns=\"http://www.w3.org/2000/svg\" height=\"24px\"viewBox=\"0 0 24 24\"\n",
              "       width=\"24px\">\n",
              "    <path d=\"M0 0h24v24H0V0z\" fill=\"none\"/>\n",
              "    <path d=\"M18.56 5.44l.94 2.06.94-2.06 2.06-.94-2.06-.94-.94-2.06-.94 2.06-2.06.94zm-11 1L8.5 8.5l.94-2.06 2.06-.94-2.06-.94L8.5 2.5l-.94 2.06-2.06.94zm10 10l.94 2.06.94-2.06 2.06-.94-2.06-.94-.94-2.06-.94 2.06-2.06.94z\"/><path d=\"M17.41 7.96l-1.37-1.37c-.4-.4-.92-.59-1.43-.59-.52 0-1.04.2-1.43.59L10.3 9.45l-7.72 7.72c-.78.78-.78 2.05 0 2.83L4 21.41c.39.39.9.59 1.41.59.51 0 1.02-.2 1.41-.59l7.78-7.78 2.81-2.81c.8-.78.8-2.07 0-2.86zM5.41 20L4 18.59l7.72-7.72 1.47 1.35L5.41 20z\"/>\n",
              "  </svg>\n",
              "      </button>\n",
              "      \n",
              "  <style>\n",
              "    .colab-df-container {\n",
              "      display:flex;\n",
              "      flex-wrap:wrap;\n",
              "      gap: 12px;\n",
              "    }\n",
              "\n",
              "    .colab-df-convert {\n",
              "      background-color: #E8F0FE;\n",
              "      border: none;\n",
              "      border-radius: 50%;\n",
              "      cursor: pointer;\n",
              "      display: none;\n",
              "      fill: #1967D2;\n",
              "      height: 32px;\n",
              "      padding: 0 0 0 0;\n",
              "      width: 32px;\n",
              "    }\n",
              "\n",
              "    .colab-df-convert:hover {\n",
              "      background-color: #E2EBFA;\n",
              "      box-shadow: 0px 1px 2px rgba(60, 64, 67, 0.3), 0px 1px 3px 1px rgba(60, 64, 67, 0.15);\n",
              "      fill: #174EA6;\n",
              "    }\n",
              "\n",
              "    [theme=dark] .colab-df-convert {\n",
              "      background-color: #3B4455;\n",
              "      fill: #D2E3FC;\n",
              "    }\n",
              "\n",
              "    [theme=dark] .colab-df-convert:hover {\n",
              "      background-color: #434B5C;\n",
              "      box-shadow: 0px 1px 3px 1px rgba(0, 0, 0, 0.15);\n",
              "      filter: drop-shadow(0px 1px 2px rgba(0, 0, 0, 0.3));\n",
              "      fill: #FFFFFF;\n",
              "    }\n",
              "  </style>\n",
              "\n",
              "      <script>\n",
              "        const buttonEl =\n",
              "          document.querySelector('#df-d20076c6-3dcb-4ff9-b40d-066f5e322809 button.colab-df-convert');\n",
              "        buttonEl.style.display =\n",
              "          google.colab.kernel.accessAllowed ? 'block' : 'none';\n",
              "\n",
              "        async function convertToInteractive(key) {\n",
              "          const element = document.querySelector('#df-d20076c6-3dcb-4ff9-b40d-066f5e322809');\n",
              "          const dataTable =\n",
              "            await google.colab.kernel.invokeFunction('convertToInteractive',\n",
              "                                                     [key], {});\n",
              "          if (!dataTable) return;\n",
              "\n",
              "          const docLinkHtml = 'Like what you see? Visit the ' +\n",
              "            '<a target=\"_blank\" href=https://colab.research.google.com/notebooks/data_table.ipynb>data table notebook</a>'\n",
              "            + ' to learn more about interactive tables.';\n",
              "          element.innerHTML = '';\n",
              "          dataTable['output_type'] = 'display_data';\n",
              "          await google.colab.output.renderOutput(dataTable, element);\n",
              "          const docLink = document.createElement('div');\n",
              "          docLink.innerHTML = docLinkHtml;\n",
              "          element.appendChild(docLink);\n",
              "        }\n",
              "      </script>\n",
              "    </div>\n",
              "  </div>\n",
              "  "
            ]
          },
          "metadata": {},
          "execution_count": 9
        }
      ]
    },
    {
      "cell_type": "markdown",
      "source": [
        "**4. Tampilan Modul Pembelajaran (Setelah Preprocessing)**"
      ],
      "metadata": {
        "id": "DThmBE2rXNG3"
      }
    },
    {
      "cell_type": "code",
      "source": [
        "# Tampilan kedua (Setelah preprocessing)\n",
        "def print_description_clean(index):\n",
        "    example = df[df.index == index][['modul_pembelajaran_clean', 'mitra','alamat']].values[0]\n",
        "    if len(example) > 0:\n",
        "        print(example[0])\n",
        "        print('mitra:', example[1])\n",
        "        print('alamat:', example[2])"
      ],
      "metadata": {
        "id": "3cNU0CJgXRIF"
      },
      "execution_count": 10,
      "outputs": []
    },
    {
      "cell_type": "code",
      "source": [
        "print_description_clean(1)"
      ],
      "metadata": {
        "colab": {
          "base_uri": "https://localhost:8080/"
        },
        "id": "8gUpj-3mXetc",
        "outputId": "02bc6829-4251-4fd7-e99c-095dedda07f8"
      },
      "execution_count": 11,
      "outputs": [
        {
          "output_type": "stream",
          "name": "stdout",
          "text": [
            "desain web   git github   javascript   laravel   database mysql   php   rest api   ui ux   soft skill   final project\n",
            "mitra: PT Nurul Fikri Cipta Inovasi\n",
            "alamat: Jl. Situ Indah No.116 RT. 006 \n",
            "RW. 010 Kel. Tugu, Kec. Cimanggis, \n",
            "Kota Depok, Jawa Barat\n",
            "\n"
          ]
        }
      ]
    },
    {
      "cell_type": "code",
      "source": [
        "print_description_clean(2)"
      ],
      "metadata": {
        "colab": {
          "base_uri": "https://localhost:8080/"
        },
        "id": "svWZ7uriXiZ1",
        "outputId": "8b430d27-ba84-485a-bc98-2384da1dc006"
      },
      "execution_count": 12,
      "outputs": [
        {
          "output_type": "stream",
          "name": "stdout",
          "text": [
            "microsoft 365 fundamentals   microsoft azure fundamentals   capstone projetct   design thingking masterclass   modern project management   microsoft azure administrator\n",
            "mitra: PT MariBelajar Indonesia \n",
            "Cerdas\n",
            "alamat: Jln Tunggul Ametung IVa no 8, \n",
            "Desa Ubung Kaja, Kecamatan \n",
            "Denpasar utara, Kota Denpasar\n"
          ]
        }
      ]
    },
    {
      "cell_type": "code",
      "source": [
        "print_description_clean(5)"
      ],
      "metadata": {
        "colab": {
          "base_uri": "https://localhost:8080/"
        },
        "id": "WAHY0tfOXmAu",
        "outputId": "905f9778-fe86-4898-b94b-ba4e6de52932"
      },
      "execution_count": 13,
      "outputs": [
        {
          "output_type": "stream",
          "name": "stdout",
          "text": [
            "text mining   machine learning   basis data   pemrograman web   jejaring sosial   web service   pemrograman aplikasi mobile   rekayasa perangkat lunak\n",
            "mitra: Imroatu\n",
            "alamat: Desel, Ngaliyan Semarang Jawa Tengah\n"
          ]
        }
      ]
    },
    {
      "cell_type": "markdown",
      "source": [
        "**5. TF-IDF & Cosine Similarity**"
      ],
      "metadata": {
        "id": "Z_2lcD9nXp-O"
      }
    },
    {
      "cell_type": "code",
      "source": [
        "df.set_index('mitra', inplace=True)\n",
        "tf = TfidfVectorizer(analyzer='word', ngram_range=(1, 3), min_df=0, stop_words='english')\n",
        "tfidf_matrix = tf.fit_transform(df['modul_pembelajaran_clean'])\n",
        "cos_sim = cosine_similarity(tfidf_matrix, tfidf_matrix)\n",
        "cos_sim"
      ],
      "metadata": {
        "colab": {
          "base_uri": "https://localhost:8080/"
        },
        "id": "osTZt9pfXrP7",
        "outputId": "2dc78c55-aaec-40c6-86b2-722fb0e17ed9"
      },
      "execution_count": 14,
      "outputs": [
        {
          "output_type": "execute_result",
          "data": {
            "text/plain": [
              "array([[1.        , 0.01252537, 0.01114433, 0.        , 0.        ,\n",
              "        0.0303574 , 0.        , 0.        , 0.        , 0.        ,\n",
              "        0.        ],\n",
              "       [0.01252537, 1.        , 0.01094202, 0.        , 0.05123811,\n",
              "        0.02980632, 0.        , 0.        , 0.        , 0.        ,\n",
              "        0.06367502],\n",
              "       [0.01114433, 0.01094202, 1.        , 0.        , 0.03977898,\n",
              "        0.        , 0.02577011, 0.        , 0.        , 0.03822683,\n",
              "        0.        ],\n",
              "       [0.        , 0.        , 0.        , 1.        , 0.        ,\n",
              "        0.        , 0.        , 0.        , 0.        , 0.        ,\n",
              "        0.        ],\n",
              "       [0.        , 0.05123811, 0.03977898, 0.        , 1.        ,\n",
              "        0.        , 0.0484071 , 0.        , 0.05810861, 0.05135387,\n",
              "        0.        ],\n",
              "       [0.0303574 , 0.02980632, 0.        , 0.        , 0.        ,\n",
              "        1.        , 0.        , 0.        , 0.01990878, 0.020046  ,\n",
              "        0.        ],\n",
              "       [0.        , 0.        , 0.02577011, 0.        , 0.0484071 ,\n",
              "        0.        , 1.        , 0.15171958, 0.12016205, 0.07791703,\n",
              "        0.        ],\n",
              "       [0.        , 0.        , 0.        , 0.        , 0.        ,\n",
              "        0.        , 0.15171958, 1.        , 0.        , 0.        ,\n",
              "        0.        ],\n",
              "       [0.        , 0.        , 0.        , 0.        , 0.05810861,\n",
              "        0.01990878, 0.12016205, 0.        , 1.        , 0.0441957 ,\n",
              "        0.        ],\n",
              "       [0.        , 0.        , 0.03822683, 0.        , 0.05135387,\n",
              "        0.020046  , 0.07791703, 0.        , 0.0441957 , 1.        ,\n",
              "        0.        ],\n",
              "       [0.        , 0.06367502, 0.        , 0.        , 0.        ,\n",
              "        0.        , 0.        , 0.        , 0.        , 0.        ,\n",
              "        1.        ]])"
            ]
          },
          "metadata": {},
          "execution_count": 14
        }
      ]
    },
    {
      "cell_type": "code",
      "source": [
        "# Set index utama di kolom 'mitra'\n",
        "indices = pd.Series(df.index)\n",
        "indices[:50]"
      ],
      "metadata": {
        "colab": {
          "base_uri": "https://localhost:8080/"
        },
        "id": "ZuMVjvpTX4o0",
        "outputId": "4f96fc6d-4de4-4407-d411-fdbc3ba259c8"
      },
      "execution_count": 15,
      "outputs": [
        {
          "output_type": "execute_result",
          "data": {
            "text/plain": [
              "0                PT Orbit Ventura Indonesia\n",
              "1              PT Nurul Fikri Cipta Inovasi\n",
              "2         PT MariBelajar Indonesia \\nCerdas\n",
              "3            PT Mitra Integrasi Informatika\n",
              "4          PT. Impactbyte Teknologi Edukasi\n",
              "5                                   Imroatu\n",
              "6     PT. IlmuKomputerCom Braindevs Sistema\n",
              "7            PT Mitra Integrasi Informatika\n",
              "8              PT Semesta Integrasi Digital\n",
              "9         PT Telkom Indonesia (Persero) Tbk\n",
              "10      PT Abbauf Mulia Konsultan Teknologi\n",
              "Name: mitra, dtype: object"
            ]
          },
          "metadata": {},
          "execution_count": 15
        }
      ]
    },
    {
      "cell_type": "markdown",
      "source": [
        "**6. Modelling**"
      ],
      "metadata": {
        "id": "cupHZxg1X8QO"
      }
    },
    {
      "cell_type": "code",
      "source": [
        "def recommendations(name, cos_sim = cos_sim):\n",
        "    \n",
        "    recommended_modul = []\n",
        "    \n",
        "    # Mengambil nama modul berdasarkan variabel indicies\n",
        "    idx = indices[indices == name].index[0]\n",
        "\n",
        "    # Membuat series berdasarkan skor kesamaan\n",
        "    score_series = pd.Series(cos_sim[idx]).sort_values(ascending = False)\n",
        "\n",
        "    # mengambil index dan dibuat 3 baris rekomendasi terbaik\n",
        "    top_10_indexes = list(score_series.iloc[1:4].index)\n",
        "    \n",
        "    for i in top_10_indexes:\n",
        "        recommended_modul.append(list(df.index)[i])\n",
        "        \n",
        "    return recommended_modul"
      ],
      "metadata": {
        "id": "Q7CBrpKVX9cl"
      },
      "execution_count": 16,
      "outputs": []
    },
    {
      "cell_type": "markdown",
      "source": [
        "**7. Prediksi**"
      ],
      "metadata": {
        "id": "-DelegazYE37"
      }
    },
    {
      "cell_type": "code",
      "source": [
        "recommendations('Imroatu')"
      ],
      "metadata": {
        "colab": {
          "base_uri": "https://localhost:8080/"
        },
        "id": "cFTMJQDuYF46",
        "outputId": "e9ec8117-c407-4102-9ca2-bc04cbf0e895"
      },
      "execution_count": 17,
      "outputs": [
        {
          "output_type": "execute_result",
          "data": {
            "text/plain": [
              "['PT Orbit Ventura Indonesia',\n",
              " 'PT Nurul Fikri Cipta Inovasi',\n",
              " 'PT Telkom Indonesia (Persero) Tbk']"
            ]
          },
          "metadata": {},
          "execution_count": 17
        }
      ]
    },
    {
      "cell_type": "code",
      "source": [
        "recommendations('PT Telkom Indonesia (Persero) Tbk')"
      ],
      "metadata": {
        "colab": {
          "base_uri": "https://localhost:8080/"
        },
        "id": "_o3gPB7IYMk7",
        "outputId": "7f12b0ec-c0b6-4edd-e3c4-2c6600b15d12"
      },
      "execution_count": 18,
      "outputs": [
        {
          "output_type": "execute_result",
          "data": {
            "text/plain": [
              "['PT. IlmuKomputerCom Braindevs Sistema',\n",
              " 'PT. Impactbyte Teknologi Edukasi',\n",
              " 'PT Semesta Integrasi Digital']"
            ]
          },
          "metadata": {},
          "execution_count": 18
        }
      ]
    },
    {
      "cell_type": "code",
      "source": [
        "recommendations('PT Nurul Fikri Cipta Inovasi')"
      ],
      "metadata": {
        "colab": {
          "base_uri": "https://localhost:8080/"
        },
        "id": "O6J3h5peYTz1",
        "outputId": "3a2fae9f-18c3-4dc4-f23e-652ec32a140b"
      },
      "execution_count": 19,
      "outputs": [
        {
          "output_type": "execute_result",
          "data": {
            "text/plain": [
              "['PT Abbauf Mulia Konsultan Teknologi',\n",
              " 'PT. Impactbyte Teknologi Edukasi',\n",
              " 'Imroatu']"
            ]
          },
          "metadata": {},
          "execution_count": 19
        }
      ]
    }
  ]
}